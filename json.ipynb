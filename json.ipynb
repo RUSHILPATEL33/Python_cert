{
  "nbformat": 4,
  "nbformat_minor": 0,
  "metadata": {
    "colab": {
      "provenance": [],
      "authorship_tag": "ABX9TyPTCnfnJV2w2waqLNoAv9Pb",
      "include_colab_link": true
    },
    "kernelspec": {
      "name": "python3",
      "display_name": "Python 3"
    },
    "language_info": {
      "name": "python"
    }
  },
  "cells": [
    {
      "cell_type": "markdown",
      "metadata": {
        "id": "view-in-github",
        "colab_type": "text"
      },
      "source": [
        "<a href=\"https://colab.research.google.com/github/RUSHILPATEL33/Python_cert/blob/main/json.ipynb\" target=\"_parent\"><img src=\"https://colab.research.google.com/assets/colab-badge.svg\" alt=\"Open In Colab\"/></a>"
      ]
    },
    {
      "cell_type": "code",
      "execution_count": 3,
      "metadata": {
        "colab": {
          "base_uri": "https://localhost:8080/"
        },
        "id": "idEQMUYzgkGa",
        "outputId": "5dcfaa0a-283d-41d9-e494-69a7d55b9342"
      },
      "outputs": [
        {
          "output_type": "stream",
          "name": "stdout",
          "text": [
            "{\"name\": \"Alice\", \"age\": 25}\n",
            "Bob\n"
          ]
        }
      ],
      "source": [
        "import json\n",
        "data = {'name':'Alice', 'age':25}\n",
        "json_str = json.dumps(data)\n",
        "print(json_str)\n",
        "\n",
        "json_data = '{\"name\":\"Bob\", \"age\":30}'\n",
        "data = json.loads(json_data)\n",
        "print(data[\"name\"])"
      ]
    }
  ]
}