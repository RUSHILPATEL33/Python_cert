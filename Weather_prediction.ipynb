{
  "nbformat": 4,
  "nbformat_minor": 0,
  "metadata": {
    "colab": {
      "provenance": [],
      "include_colab_link": true
    },
    "kernelspec": {
      "name": "python3",
      "display_name": "Python 3"
    },
    "language_info": {
      "name": "python"
    }
  },
  "cells": [
    {
      "cell_type": "markdown",
      "metadata": {
        "id": "view-in-github",
        "colab_type": "text"
      },
      "source": [
        "<a href=\"https://colab.research.google.com/github/RUSHILPATEL33/Python_cert/blob/main/Weather_prediction.ipynb\" target=\"_parent\"><img src=\"https://colab.research.google.com/assets/colab-badge.svg\" alt=\"Open In Colab\"/></a>"
      ]
    },
    {
      "cell_type": "code",
      "execution_count": null,
      "metadata": {
        "colab": {
          "base_uri": "https://localhost:8080/"
        },
        "id": "l-XvN78ys7Pt",
        "outputId": "5dc61994-8208-43b1-ec14-86bef154e779"
      },
      "outputs": [
        {
          "output_type": "stream",
          "name": "stdout",
          "text": [
            "Enter a city name:Vadodara\n",
            "error fetching location key\n",
            "Failed to fetch weather. Status: 503\n"
          ]
        }
      ],
      "source": [
        "import requests\n",
        "\n",
        "api_key = \"CeZJaNqYhrkvuYjTqx2EKKIn3m7AkjSH\"\n",
        "city = input(\"Enter a city name:\")\n",
        "url=f\"http://dataservice.accuweather.com/locations/v1/cities/search?q={city}&apikey={api_key}\"\n",
        "def fetchLocationKey():\n",
        "    location_url = url\n",
        "    response = requests.get(location_url)\n",
        "    data = response.json()\n",
        "    if response.status_code == 200 and data:\n",
        "        location_key = data[0]['key']\n",
        "        return location_key\n",
        "    else:\n",
        "      print(\"error fetching location key\")\n",
        "location_Key = fetchLocationKey()\n",
        "weather_url = f\"http://dataservice.accuweather.com/currentconditions/v1/{location_Key}?apikey={api_key}\"\n",
        "response = requests.get(weather_url)\n",
        "if response.status_code == 200:\n",
        "    weather_data = response.json()\n",
        "    if weather_data:\n",
        "      temperature = weather_data[0]['temperature']['Metric']['Value']\n",
        "      unit = weather_data[0]['temperature']['Metric']['Unit']\n",
        "      description = weather_data[0]['WeatherText']\n",
        "      print(f\"Current weather in {city}: {description}, {temperature}°c{unit}  \")\n",
        "    else:\n",
        "        print(\"No weather date found\")\n",
        "else:\n",
        "  print (f\"Failed to fetch weather. Status: {response.status_code}\")"
      ]
    }
  ]
}