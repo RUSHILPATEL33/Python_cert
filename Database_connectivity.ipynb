{
  "nbformat": 4,
  "nbformat_minor": 0,
  "metadata": {
    "colab": {
      "provenance": [],
      "authorship_tag": "ABX9TyNxPycEmZqIKKO5xr5wbhTa",
      "include_colab_link": true
    },
    "kernelspec": {
      "name": "python3",
      "display_name": "Python 3"
    },
    "language_info": {
      "name": "python"
    }
  },
  "cells": [
    {
      "cell_type": "markdown",
      "metadata": {
        "id": "view-in-github",
        "colab_type": "text"
      },
      "source": [
        "<a href=\"https://colab.research.google.com/github/RUSHILPATEL33/Python_cert/blob/main/Database_connectivity.ipynb\" target=\"_parent\"><img src=\"https://colab.research.google.com/assets/colab-badge.svg\" alt=\"Open In Colab\"/></a>"
      ]
    },
    {
      "cell_type": "code",
      "execution_count": 24,
      "metadata": {
        "colab": {
          "base_uri": "https://localhost:8080/"
        },
        "outputId": "4b7058a3-cd84-487a-c292-67bffacc53d7",
        "id": "ud_ghVEktado"
      },
      "outputs": [
        {
          "output_type": "stream",
          "name": "stdout",
          "text": [
            "\n",
            " Updated Students Table data:\n",
            "(1, 'Alice', 14, '8th')\n",
            "(2, 'Bob', 15, '9th')\n",
            "(3, 'Charlie', 13, '7th')\n",
            "(4, 'Alice', 14, '8th')\n",
            "(5, 'Bob', 15, '9th')\n",
            "(6, 'Charlie', 13, '7th')\n",
            "(7, 'Alice', 14, '8th')\n",
            "(8, 'Bob', 15, '9th')\n",
            "(9, 'Charlie', 13, '7th')\n",
            "(10, 'Alice', 14, '8th')\n",
            "(11, 'Bob', 15, '9th')\n",
            "(12, 'Charlie', 13, '7th')\n",
            "(13, 'Alice', 14, '8th')\n",
            "(14, 'Bob', 15, '9th')\n",
            "(15, 'Charlie', 13, '7th')\n",
            "(16, 'Alice', 14, '8th')\n",
            "(17, 'Bob', 15, '9th')\n",
            "(18, 'Charlie', 13, '7th')\n"
          ]
        }
      ],
      "source": [
        "import sqlite3\n",
        "try:\n",
        "    conn = sqlite3.connect('school1.db')\n",
        "    cursor = conn.cursor()\n",
        "    cursor.execute('''\n",
        "    CREATE TABLE IF NOT EXISTS students(\n",
        "        id INTEGER PRIMARY KEY AUTOINCREMENT,\n",
        "        name TEXT NOT NULL,\n",
        "        age INTEGER,\n",
        "        gender TEXT\n",
        "    )\n",
        "    ''')\n",
        "\n",
        "    cursor.execute(\"INSERT INTO students (name, age, gender) VALUES ('Alice', 14, '8th')\")\n",
        "    cursor.execute(\"INSERT INTO students (name, age, gender) VALUES ('Bob', 15, '9th')\")\n",
        "    cursor.execute(\"INSERT INTO students (name, age, gender) VALUES ('Charlie', 13, '7th')\")\n",
        "    conn.commit()\n",
        "    print(\"\\n Updated Students Table data:\")\n",
        "    cursor.execute(\"SELECT * FROM students\")\n",
        "    rows = cursor.fetchall()\n",
        "    for row in rows:\n",
        "        print(row)\n",
        "except sqlite3.Error as e:\n",
        "    print(\"An error occurred:\", e)\n",
        "finally:\n",
        "      conn.close()"
      ]
    }
  ]
}